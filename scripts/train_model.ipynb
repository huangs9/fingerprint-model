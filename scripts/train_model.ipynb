{
 "cells": [
  {
   "cell_type": "code",
   "execution_count": 10,
   "metadata": {},
   "outputs": [
    {
     "ename": "ModuleNotFoundError",
     "evalue": "No module named 'rdkit'",
     "output_type": "error",
     "traceback": [
      "\u001b[1;31m---------------------------------------------------------------------------\u001b[0m",
      "\u001b[1;31mModuleNotFoundError\u001b[0m                       Traceback (most recent call last)",
      "Cell \u001b[1;32mIn[10], line 10\u001b[0m\n\u001b[0;32m      8\u001b[0m \u001b[38;5;28;01mfrom\u001b[39;00m \u001b[38;5;21;01msklearn\u001b[39;00m\u001b[38;5;21;01m.\u001b[39;00m\u001b[38;5;21;01mmetrics\u001b[39;00m \u001b[38;5;28;01mimport\u001b[39;00m mean_squared_error\n\u001b[0;32m      9\u001b[0m \u001b[38;5;28;01mimport\u001b[39;00m \u001b[38;5;21;01mnumpy\u001b[39;00m \u001b[38;5;28;01mas\u001b[39;00m \u001b[38;5;21;01mnp\u001b[39;00m\n\u001b[1;32m---> 10\u001b[0m \u001b[38;5;28;01mfrom\u001b[39;00m \u001b[38;5;21;01mrdkit\u001b[39;00m \u001b[38;5;28;01mimport\u001b[39;00m Chem\n\u001b[0;32m     11\u001b[0m \u001b[38;5;28;01mfrom\u001b[39;00m \u001b[38;5;21;01mrdkit\u001b[39;00m\u001b[38;5;21;01m.\u001b[39;00m\u001b[38;5;21;01mChem\u001b[39;00m \u001b[38;5;28;01mimport\u001b[39;00m AllChem, MACCSkeys\n",
      "\u001b[1;31mModuleNotFoundError\u001b[0m: No module named 'rdkit'"
     ]
    }
   ],
   "source": [
    "import os\n",
    "import sys\n",
    "import argparse\n",
    "import pandas as pd\n",
    "from sklearn.model_selection import train_test_split\n",
    "from sklearn.preprocessing import StandardScaler\n",
    "from sklearn.neural_network import MLPRegressor\n",
    "from sklearn.metrics import mean_squared_error\n",
    "import numpy as np\n",
    "from rdkit import Chem\n",
    "from rdkit.Chem import AllChem, MACCSkeys"
   ]
  },
  {
   "cell_type": "code",
   "execution_count": null,
   "metadata": {},
   "outputs": [],
   "source": [
    "# Parse command-line arguments\n",
    "parser = argparse.ArgumentParser(description=\"Train a model on Morgan fingerprints or MACCS keys\")\n",
    "parser.add_argument(\"--hidden_layers\", type=int, nargs='+', default=[100, 50],\n",
    "                    help=\"Hidden layer sizes for MLP (e.g., --hidden_layers 100 50)\")\n",
    "parser.add_argument(\"--max_iter\", type=int, default=1000, help=\"Maximum number of iterations for MLP\")\n",
    "args = parser.parse_args()\n",
    "\n",
    "# Load dataset\n",
    "df = pd.read_csv('../data/Lipophilicity.csv')\n"
   ]
  },
  {
   "cell_type": "code",
   "execution_count": null,
   "metadata": {},
   "outputs": [],
   "source": [
    "# Function to generate Morgan fingerprints\n",
    "def morgan_fingerprint(smiles, radius=2, n_bits=2048):\n",
    "    mol = Chem.MolFromSmiles(smiles)\n",
    "    if mol is not None:\n",
    "        return AllChem.GetMorganFingerprintAsBitVect(mol, radius, nBits=n_bits)\n",
    "    else:\n",
    "        return np.zeros((n_bits,))\n",
    "\n",
    "# Function to generate MACCS keys\n",
    "def maccs_keys(smiles):\n",
    "    mol = Chem.MolFromSmiles(smiles)\n",
    "    if mol is not None:\n",
    "        return MACCSkeys.GenMACCSKeys(mol)\n",
    "    else:\n",
    "        return np.zeros((166,))"
   ]
  },
  {
   "cell_type": "code",
   "execution_count": null,
   "metadata": {},
   "outputs": [],
   "source": [
    "# Apply functions to generate fingerprints\n",
    "df['morgan_fp'] = df['smiles'].apply(morgan_fingerprint)\n",
    "df['maccs_keys'] = df['smiles'].apply(maccs_keys)\n",
    "\n",
    "# Convert fingerprints to numpy arrays\n",
    "morgan_fps = np.array(list(df['morgan_fp'].values))\n",
    "maccs_keys = np.array(list(df['maccs_keys'].values))\n",
    "y = df['exp'].values\n",
    "\n",
    "# Split data into train and test sets\n",
    "X_train_morgan, X_test_morgan, y_train, y_test = train_test_split(morgan_fps, y, test_size=0.2, random_state=42)\n",
    "X_train_maccs, X_test_maccs, _, _ = train_test_split(maccs_keys, y, test_size=0.2, random_state=42)\n",
    "\n",
    "# Scale the target\n",
    "scaler = StandardScaler()\n",
    "y_train_scaled = scaler.fit_transform(y_train.reshape(-1, 1)).ravel()\n"
   ]
  },
  {
   "cell_type": "code",
   "execution_count": null,
   "metadata": {},
   "outputs": [],
   "source": [
    "# Train MLP model on Morgan fingerprints\n",
    "mlp_morgan = MLPRegressor(hidden_layer_sizes=tuple(args.hidden_layers), max_iter=args.max_iter, random_state=42)\n",
    "mlp_morgan.fit(X_train_morgan, y_train_scaled)\n",
    "\n",
    "# Predict and compute RMSE for Morgan fingerprints\n",
    "y_pred_morgan_scaled = mlp_morgan.predict(X_test_morgan)\n",
    "y_pred_morgan = scaler.inverse_transform(y_pred_morgan_scaled.reshape(-1, 1)).ravel()\n",
    "rmse_morgan = np.sqrt(mean_squared_error(y_test, y_pred_morgan))\n",
    "\n",
    "# Retrieve conda environment name\n",
    "conda_env = os.getenv(\"CONDA_DEFAULT_ENV\", \"base\")\n",
    "\n",
    "# Save results\n",
    "with open(\"../results/results.txt\", \"w\") as file:\n",
    "    file.write(f\"RMSE for Morgan fingerprints: {rmse_morgan}\\n\")\n",
    "    file.write(f\"Conda environment: {conda_env}\\n\")\n",
    "    file.write(f\"Hyperparameters: hidden_layers={args.hidden_layers}, max_iter={args.max_iter}\\n\")\n",
    "\n",
    "print(f\"RMSE for Morgan fingerprints: {rmse_morgan}\")\n",
    "print(f\"Results saved to results.txt\")"
   ]
  }
 ],
 "metadata": {
  "kernelspec": {
   "display_name": "base",
   "language": "python",
   "name": "python3"
  },
  "language_info": {
   "codemirror_mode": {
    "name": "ipython",
    "version": 3
   },
   "file_extension": ".py",
   "mimetype": "text/x-python",
   "name": "python",
   "nbconvert_exporter": "python",
   "pygments_lexer": "ipython3",
   "version": "3.12.4"
  }
 },
 "nbformat": 4,
 "nbformat_minor": 2
}
